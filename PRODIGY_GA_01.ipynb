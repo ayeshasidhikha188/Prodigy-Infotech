{
 "cells": [
  {
   "cell_type": "markdown",
   "id": "0a326fb1",
   "metadata": {},
   "source": [
    "# 🌟 **Internship Task1 at Prodigy Infotec: Generative AI Intern**\n",
    "\n",
    "* As a Generative AI Intern at Prodigy Infotec, I will be involved in exciting and innovative projects that focus on building advanced AI models and techniques. *\n",
    "* These projects will help you sharpen your skills in various aspects of machine learning, deep learning, and computer vision. \n",
    "* Here’s a step-by-step explanation of how you’ll achieve these tasks and contribute to the team:"
   ]
  },
  {
   "cell_type": "markdown",
   "id": "dec2ae7b",
   "metadata": {},
   "source": [
    "## 🛠️ Importing OpenAI Python Library\n",
    "\n",
    "### Steps:\n",
    "1. 📚 **Import the OpenAI Module**  \n",
    "   - Run the command:  \n",
    "     `from openai import OpenAI`  \n",
    "     - This imports the OpenAI module to use its functions in your code.\n",
    "\n",
    "2. 🔍 **Check for Errors**  \n",
    "   - If there’s no error, the OpenAI library is successfully imported.\n",
    "\n",
    "3. 🔓 **Access OpenAI's Features**  \n",
    "   - Now you can access OpenAI's models and features such as GPT-3, DALL·E, and others for text generation, image generation, etc.\n"
   ]
  },
  {
   "cell_type": "code",
   "execution_count": 34,
   "id": "7842f558",
   "metadata": {},
   "outputs": [],
   "source": [
    "from openai import OpenAI"
   ]
  },
  {
   "cell_type": "markdown",
   "id": "acbae4e9",
   "metadata": {},
   "source": [
    "## 🔑 Loading OpenAI API Key and Creating a Client\n",
    "\n",
    "### Steps:\n",
    "1. 📂 **Open the API Key File**  \n",
    "   - Reads the API key stored in a text file.\n",
    "\n",
    "2. 🔑 **Read the API Key**  \n",
    "   - Extracts the key and stores it in a variable.\n",
    "\n",
    "3. 🤖 **Initialize OpenAI Client**  \n",
    "   - Uses the API key to authenticate and create an OpenAI client.\n",
    "\n",
    "4. ✅ **Ready to Use**  \n",
    "   - The client is set up for making API requests like text and image generation.\n"
   ]
  },
  {
   "cell_type": "code",
   "execution_count": 31,
   "id": "285675b8",
   "metadata": {},
   "outputs": [],
   "source": [
    "f = open(r\"C:\\Users\\mdimr\\OneDrive\\Documents\\Open Api Keys\\Gen ai key.txt\")\n",
    "OPENAI_API_KEY = f.read()\n",
    "\n",
    "client = OpenAI(api_key = OPENAI_API_KEY)"
   ]
  },
  {
   "cell_type": "markdown",
   "id": "9a16a24b",
   "metadata": {},
   "source": [
    "## 🖼️ Generating AI-Generated Text with GPT\n",
    "\n",
    "#### 1. Setup the Request\n",
    "* We make a request to the GPT-3.5 Turbo model using the client.chat.completions.create() method.\n",
    "\n",
    "#### 2. Explanation\n",
    "* Using the gpt-3.5-turbo model to generate content.\n",
    "* The user's message instructs the model to generate specific data science questions and answers.\n"
   ]
  },
  {
   "cell_type": "code",
   "execution_count": 36,
   "id": "00794284",
   "metadata": {},
   "outputs": [
    {
     "data": {
      "text/plain": [
       "ChatCompletion(id='chatcmpl-AxYdjr9XxBSbx3sBImRWnd367ECzZ', choices=[Choice(finish_reason='stop', index=0, logprobs=None, message=ChatCompletionMessage(content=\"1. Question: What is the difference between supervised and unsupervised learning in data science?\\nAnswer: Supervised learning involves training a model on labeled data, where the target variable is known, while unsupervised learning involves training a model on unlabeled data to find patterns and relationships.\\n\\n2. Question: What is feature engineering in data science and why is it important?\\nAnswer: Feature engineering is the process of selecting, transforming, and creating new features from the raw data to improve model performance. It is important because the quality of features directly impacts the model's accuracy and efficiency.\\n\\n3. Question: What is cross-validation in data science and why is it used?\\nAnswer: Cross-validation is a technique used to assess the performance of a model by splitting the data into multiple subsets, training the model on different combinations of these subsets, and evaluating its performance on the held-out data. It helps to ensure that the model generalizes well to new, unseen data.\", refusal=None, role='assistant', audio=None, function_call=None, tool_calls=None))], created=1738757871, model='gpt-3.5-turbo-0125', object='chat.completion', service_tier='default', system_fingerprint=None, usage=CompletionUsage(completion_tokens=194, prompt_tokens=20, total_tokens=214, completion_tokens_details=CompletionTokensDetails(accepted_prediction_tokens=0, audio_tokens=0, reasoning_tokens=0, rejected_prediction_tokens=0), prompt_tokens_details=PromptTokensDetails(audio_tokens=0, cached_tokens=0)))"
      ]
     },
     "execution_count": 36,
     "metadata": {},
     "output_type": "execute_result"
    }
   ],
   "source": [
    "response = client.chat.completions.create(\n",
    "      model=\"gpt-3.5-turbo\",\n",
    "      messages=[\n",
    "                {\n",
    "                    \"role\": \"user\", \n",
    "                    \"content\": \"Generate 3 data science questions and answers for MCQ test.\"\n",
    "                }\n",
    "      ]\n",
    ")\n",
    "\n",
    "response"
   ]
  },
  {
   "cell_type": "markdown",
   "id": "b51c41e8",
   "metadata": {},
   "source": [
    "## 3. Output\n",
    "* The AI responds with the requested text, which can then be used in your application."
   ]
  },
  {
   "cell_type": "code",
   "execution_count": 33,
   "id": "a9cffbcb",
   "metadata": {},
   "outputs": [
    {
     "name": "stdout",
     "output_type": "stream",
     "text": [
      "1. What is the purpose of data preprocessing in data science?\n",
      "   A) To analyze data\n",
      "   B) To clean and transform raw data into a usable format\n",
      "   C) To interpret data\n",
      "   D) To visualize data\n",
      "\n",
      "   Correct answer: B) To clean and transform raw data into a usable format\n",
      "\n",
      "2. Which statistical measure is used to measure the central tendency of a dataset in data science?\n",
      "   A) Standard deviation\n",
      "   B) Variance\n",
      "   C) Mean\n",
      "   D) Range\n",
      "\n",
      "   Correct answer: C) Mean\n",
      "\n",
      "3. What is the main goal of machine learning in data science?\n",
      "   A) To perform statistical analysis\n",
      "   B) To visualize data\n",
      "   C) To predict outcomes based on data patterns\n",
      "   D) To clean and preprocess data\n",
      "\n",
      "   Correct answer: C) To predict outcomes based on data patterns\n"
     ]
    }
   ],
   "source": [
    "print(response.choices[0].message.content)"
   ]
  },
  {
   "cell_type": "code",
   "execution_count": null,
   "id": "68dc26ef",
   "metadata": {},
   "outputs": [],
   "source": []
  }
 ],
 "metadata": {
  "kernelspec": {
   "display_name": "Python 3 (ipykernel)",
   "language": "python",
   "name": "python3"
  },
  "language_info": {
   "codemirror_mode": {
    "name": "ipython",
    "version": 3
   },
   "file_extension": ".py",
   "mimetype": "text/x-python",
   "name": "python",
   "nbconvert_exporter": "python",
   "pygments_lexer": "ipython3",
   "version": "3.11.5"
  }
 },
 "nbformat": 4,
 "nbformat_minor": 5
}
